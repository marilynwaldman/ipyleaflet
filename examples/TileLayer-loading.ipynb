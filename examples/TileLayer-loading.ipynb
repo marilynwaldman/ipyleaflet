{
 "cells": [
  {
   "cell_type": "code",
   "execution_count": 1,
   "metadata": {
    "scrolled": false
   },
   "outputs": [
    {
     "data": {
      "application/vnd.jupyter.widget-view+json": {
       "model_id": "c0d065a7d10144f4a2c5ec1f62bf8531",
       "version_major": 2,
       "version_minor": 0
      },
      "text/plain": [
       "Map(center=[52, 10], controls=(ZoomControl(options=['position', 'zoom_in_text', 'zoom_in_title', 'zoom_out_tex…"
      ]
     },
     "metadata": {},
     "output_type": "display_data"
    },
    {
     "data": {
      "application/vnd.jupyter.widget-view+json": {
       "model_id": "4a6a72be3a464dce8bfef15b204ca4a0",
       "version_major": 2,
       "version_minor": 0
      },
      "text/plain": [
       "Label(value='Not Loading')"
      ]
     },
     "metadata": {},
     "output_type": "display_data"
    }
   ],
   "source": [
    "from ipyleaflet import *\n",
    "from ipywidgets import *\n",
    "\n",
    "m = Map(center=(52, 10), zoom=8)\n",
    "\n",
    "tl = TileLayer(url='https://{s}.tile.opentopomap.org/{z}/{x}/{y}.png')\n",
    "m.add_layer(tl)\n",
    "\n",
    "label = Label(value='Not Loading')\n",
    "\n",
    "def on_load_change(change):\n",
    "    loading = change['new']\n",
    "    label.value = str('Loading...' if loading else 'Not Loading')\n",
    "\n",
    "tl.observe(on_load_change, 'loading')\n",
    "\n",
    "display(m)\n",
    "display(label)\n",
    "\n",
    "# move the map, zoom out or zoom in to see the Label change from 'Loading...' to 'Not Loading'"
   ]
  },
  {
   "cell_type": "code",
   "execution_count": null,
   "metadata": {},
   "outputs": [],
   "source": []
  }
 ],
 "metadata": {
  "kernelspec": {
   "display_name": "Python 3",
   "language": "python",
   "name": "python3"
  },
  "language_info": {
   "codemirror_mode": {
    "name": "ipython",
    "version": 3
   },
   "file_extension": ".py",
   "mimetype": "text/x-python",
   "name": "python",
   "nbconvert_exporter": "python",
   "pygments_lexer": "ipython3",
   "version": "3.7.6"
  }
 },
 "nbformat": 4,
 "nbformat_minor": 4
}
