{
 "cells": [
  {
   "cell_type": "code",
   "execution_count": null,
   "metadata": {
    "collapsed": false
   },
   "outputs": [],
   "source": [
    "%matplotlib inline"
   ]
  },
  {
   "cell_type": "markdown",
   "metadata": {},
   "source": [
    "\nCreate A Hillshade From a Digital Elevation Model Using EarthPy\n===============================================================\n\nLearn how to create a hillshade from a DEM using the EarthPy\nes.hillshade() function.\n"
   ]
  },
  {
   "cell_type": "markdown",
   "metadata": {},
   "source": [
    "Create A Hillshade Layer Using EarthPy\n---------------------------------------\n\n<div class=\"alert alert-info\"><h4>Note</h4><p>The examples below show you how to use the ``es.hillshade()``\n      function from EarthPy.</p></div>\n\n"
   ]
  },
  {
   "cell_type": "markdown",
   "metadata": {},
   "source": [
    "Create a Hillshade from a Digital Elevation Model (DEM)\n-------------------------------------------------------\nA hillshade is a 3D representation of a surface. Hillshades are generally\nrendered in greyscale. The darker and lighter colors represent the shadows\nand highlights that you would visually expect to see in a terrain model.\nHillshades are often used as an underlay in a map, to make the data appear\nmore 3-Dimensional and thus visually interesting. This vignette will show\nyou how to create a hillshade from a DEM using EarthPy. It will highlight\nhow to adjust the sun's azimuth, altitude and other settings that will impact\nhow the hillshade shadows are modeled in the data.\n\nThe hillshade function is a part of the spatial module in EarthPy.\n\n"
   ]
  },
  {
   "cell_type": "markdown",
   "metadata": {},
   "source": [
    "Import Packages\n----------------\n\nYou will need several packages to get started. You will use Rasterio to\nopen up the DEM file needed to create the hillshade layer.\n\n"
   ]
  },
  {
   "cell_type": "code",
   "execution_count": null,
   "metadata": {
    "collapsed": false
   },
   "outputs": [],
   "source": [
    "import os\nimport numpy as np\nimport matplotlib.pyplot as plt\nimport earthpy as et\nimport earthpy.spatial as es\nimport earthpy.plot as ep\nimport rasterio as rio\n\n# Download the data needed for this vignette\ndata = et.data.get_data(\"vignette-elevation\")"
   ]
  },
  {
   "cell_type": "markdown",
   "metadata": {},
   "source": [
    "Open up the DEM\n---------------\nTo begin, open your DEM layer as a numpy array using Rasterio. Below you set all\nterrain values < 0 to ``nan``. Next, plot the data using ``ep.plot_bands()``.\n\n"
   ]
  },
  {
   "cell_type": "code",
   "execution_count": null,
   "metadata": {
    "collapsed": false
   },
   "outputs": [],
   "source": [
    "# Set the home directory and get the data for the exercise\nos.chdir(os.path.join(et.io.HOME, \"earth-analytics\"))\ndtm = \"data/vignette-elevation/pre_DTM.tif\"\n\n# Open the DEM with Rasterio\nwith rio.open(dtm) as src:\n    elevation = src.read(1)\n    # Set masked values to np.nan\n    elevation[elevation < 0] = np.nan\n\n# Plot the data\nep.plot_bands(\n    elevation,\n    cmap=\"gist_earth\",\n    title=\"DTM Without Hillshade\",\n    figsize=(10, 6),\n)\nplt.show()"
   ]
  },
  {
   "cell_type": "markdown",
   "metadata": {},
   "source": [
    "Create the Hillshade\n--------------------\nOnce the DEM is read in, call ``es.hillshade()`` to create the hillshade.\n\n"
   ]
  },
  {
   "cell_type": "code",
   "execution_count": null,
   "metadata": {
    "collapsed": false
   },
   "outputs": [],
   "source": [
    "# Create and plot the hillshade with earthpy\nhillshade = es.hillshade(elevation)\n\nep.plot_bands(\n    hillshade, cbar=False, title=\"Hillshade made from DTM\", figsize=(10, 6),\n)\nplt.show()"
   ]
  },
  {
   "cell_type": "markdown",
   "metadata": {},
   "source": [
    "Change the Azimuth of the Sun\n-------------------------------\nThe angle that sun light hits the landscape, impacts the shadows and highlights\ncreated on the landscape. You can adjust the azimuth values to adjust angle of the\nhighlights and shadows that are created in your output hillshade. Azimuth numbers can\nrange from 0 to 360 degrees, where 0 is due North. The default value for azimuth\nin ``es.hillshade()`` is 30 degrees.\n\n"
   ]
  },
  {
   "cell_type": "code",
   "execution_count": null,
   "metadata": {
    "collapsed": false
   },
   "outputs": [],
   "source": [
    "# Change the azimuth of the hillshade layer\nhillshade_azimuth_210 = es.hillshade(elevation, azimuth=210)\n\n# Plot the hillshade layer with the modified azimuth\nep.plot_bands(\n    hillshade_azimuth_210,\n    cbar=False,\n    title=\"Hillshade with Azimuth set to 210 Degrees\",\n    figsize=(10, 6),\n)\nplt.show()"
   ]
  },
  {
   "cell_type": "markdown",
   "metadata": {},
   "source": [
    "Change the Angle Altitude of the Sun\n-------------------------------------\nAnother variable you can adjust for hillshade is what angle of the sun.\nThe ``angle_altitude`` parameter values range from 0 to 90. 90 represents the sun\nshining from directly above the scene. The default value for ``angle_altitude`` in\n``es.hillshade()`` is 30 degrees.\n\n"
   ]
  },
  {
   "cell_type": "code",
   "execution_count": null,
   "metadata": {
    "collapsed": false
   },
   "outputs": [],
   "source": [
    "# Adjust the azimuth value\nhillshade_angle_10 = es.hillshade(elevation, altitude=10)\n\n# Plot the hillshade layer with the modified angle altitude\nep.plot_bands(\n    hillshade_angle_10,\n    cbar=False,\n    title=\"Hillshade with Angle Altitude set to 10 Degrees\",\n    figsize=(10, 6),\n)\nplt.show()"
   ]
  },
  {
   "cell_type": "markdown",
   "metadata": {},
   "source": [
    "Overlay a DEM on top of the Hillshade\n-------------------------------------\nA hillshade can be used to visually enhance a DEM.\nTo overlay the data, use the ``ep.plot_bands()`` function in EarthPy combined with\n``ax.imshow()``. The alpha setting sets the tranparency value for the hillshade layer.\n\n"
   ]
  },
  {
   "cell_type": "code",
   "execution_count": null,
   "metadata": {
    "collapsed": false
   },
   "outputs": [],
   "source": [
    "# Plot the DEM and hillshade at the same time\n# sphinx_gallery_thumbnail_number = 5\nfig, ax = plt.subplots(figsize=(10, 6))\nep.plot_bands(\n    elevation,\n    ax=ax,\n    cmap=\"terrain\",\n    title=\"Lidar Digital Elevation Model (DEM)\\n overlayed on top of a hillshade\",\n)\nax.imshow(hillshade, cmap=\"Greys\", alpha=0.5)\nplt.show()"
   ]
  }
 ],
 "metadata": {
  "kernelspec": {
   "display_name": "Python 3",
   "language": "python",
   "name": "python3"
  },
  "language_info": {
   "codemirror_mode": {
    "name": "ipython",
    "version": 3
   },
   "file_extension": ".py",
   "mimetype": "text/x-python",
   "name": "python",
   "nbconvert_exporter": "python",
   "pygments_lexer": "ipython3",
   "version": "3.7.3"
  }
 },
 "nbformat": 4,
 "nbformat_minor": 0
}
