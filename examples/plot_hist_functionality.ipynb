{
 "cells": [
  {
   "cell_type": "code",
   "execution_count": null,
   "metadata": {
    "collapsed": false
   },
   "outputs": [],
   "source": [
    "%matplotlib inline"
   ]
  },
  {
   "cell_type": "markdown",
   "metadata": {},
   "source": [
    "\nPlot Histograms of Pixel Values from Multi-band Imagery with EarthPy\n====================================================================\nLearn how to quickly plot distributions of pixel values in Python\nusing Earthpy. This examples shows you how to create histogram\nplots for each raster band in a multi-band image such as\nLandsat 8 data.\n"
   ]
  },
  {
   "cell_type": "markdown",
   "metadata": {},
   "source": [
    "Plot Raster Data Histograms Using EarthPy\n------------------------------------------\n\n<div class=\"alert alert-info\"><h4>Note</h4><p>This example shows you how to create histogram plots of pixel values\n   for each raster band of a multi-band image using the ``ep.hist()``\n   function from the ``earthpy.spatial`` module.</p></div>\n\nIn this example, you will learn how to plot histograms from multi-band\nimagery such as Landsat 8. Multi-band images store data as individual raster\nbands that contain reflectance values for various sections of the\nelectromagnetic spectrum. For example, the second band of Landsat 8 provides\nsurface reflectance within the blue wavelength of the electromagnetic\nspectrum, while the third and fourth bands of Landsat 8 provides surface\nreflectance within the green and red wavelengths, respectively.\nHistogram plots provide a quick way to review the distribution of pixel\nvalues for a specific band, which can be helpful to identify potential\ndata quality issues or simply learn more about the surface area that was\ncaptured.\n\nTo begin, you will create a stack of these individuals bands from\nLandsat 8 data and then use the ``ep.hist()`` function to plot the histograms\nfor each band in the stack.\n\n"
   ]
  },
  {
   "cell_type": "markdown",
   "metadata": {},
   "source": [
    "Import Packages\n----------------\n\nIn order to use the ``ep.hist()`` function from EarthPy, the following\npackages need to be imported.\n\n"
   ]
  },
  {
   "cell_type": "code",
   "execution_count": null,
   "metadata": {
    "collapsed": false
   },
   "outputs": [],
   "source": [
    "import os\nfrom glob import glob\nimport matplotlib.pyplot as plt\nimport earthpy as et\nimport earthpy.spatial as es\nimport earthpy.plot as ep"
   ]
  },
  {
   "cell_type": "markdown",
   "metadata": {},
   "source": [
    "Import Example Data\n-------------------\n\nTo get started, make sure your directory is set. Then, create a stack from all\nof the Landsat .tif files (one per band).\n\n"
   ]
  },
  {
   "cell_type": "code",
   "execution_count": null,
   "metadata": {
    "collapsed": false
   },
   "outputs": [],
   "source": [
    "# Get data for example\ndata = et.data.get_data(\"vignette-landsat\")\n\n# Set working directory\nos.chdir(os.path.join(et.io.HOME, \"earth-analytics\"))\n\n# Stack the Landsat 8 bands\n# This creates a numpy array with each \"layer\" representing a single band\n# You can use the nodata parameter to mask nodata values\nlandsat_path = glob(os.path.join(\"data\", \"vignette-landsat\", \"*band*.tif\"))\nlandsat_path.sort()\narray_stack, meta_data = es.stack(landsat_path, nodata=-9999)"
   ]
  },
  {
   "cell_type": "markdown",
   "metadata": {},
   "source": [
    "Plot All Histograms in a Stack With Custom Titles and Colors\n-------------------------------------------------------------\n\nYou can create histograms for each band with unique colors and titles by\nfirst creating a list of colors and titles that will be provided to the\nep.hist() function. The list for titles must contain the same number of\nstrings as there are bands in the stack. You can also modify the colors for\neach image with a list of Matplotlib colors. If one color is provided in\nthe list, every band will inherit that color. Otherwise, the list must\ncontain the same number of strings as there are bands in the stack.\n\n"
   ]
  },
  {
   "cell_type": "code",
   "execution_count": null,
   "metadata": {
    "collapsed": false
   },
   "outputs": [],
   "source": [
    "# Create the list of color names for each band\ncolors_list = [\n    \"midnightblue\",\n    \"Blue\",\n    \"Green\",\n    \"Red\",\n    \"Maroon\",\n    \"Purple\",\n    \"Violet\",\n]\n\n# Create the list of titles for each band. The titles and colors listed\n# in this example reflect the order and wavelengths of the Landsat 8 bands\ntitles = [\"Ultra Blue\", \"Blue\", \"Green\", \"Red\", \"NIR\", \"SWIR 1\", \"SWIR 2\"]\n\n# Plot the histograms with the color and title lists you just created\n# sphinx_gallery_thumbnail_number = 1\nep.hist(array_stack, colors=colors_list, title=titles)\nplt.show()"
   ]
  },
  {
   "cell_type": "markdown",
   "metadata": {},
   "source": [
    "Customize Bin Size and Arrangement of Histograms\n-------------------------------------------------\n\nYou can customize the number of bins each histogram plot uses to group the\ndata it is plotting. The default number is 20. This can be adjusted to match\nthe data you are trying to display. Additionally, you can change the\narrangement of the image overall by modifying the number of columns used\nto plot the data.\n\n"
   ]
  },
  {
   "cell_type": "code",
   "execution_count": null,
   "metadata": {
    "collapsed": false
   },
   "outputs": [],
   "source": [
    "# Plot each histogram with 50 bins, arranged across three columns\nep.hist(array_stack, bins=50, cols=3)\nplt.show()"
   ]
  }
 ],
 "metadata": {
  "kernelspec": {
   "display_name": "Python 3",
   "language": "python",
   "name": "python3"
  },
  "language_info": {
   "codemirror_mode": {
    "name": "ipython",
    "version": 3
   },
   "file_extension": ".py",
   "mimetype": "text/x-python",
   "name": "python",
   "nbconvert_exporter": "python",
   "pygments_lexer": "ipython3",
   "version": "3.7.3"
  }
 },
 "nbformat": 4,
 "nbformat_minor": 0
}
