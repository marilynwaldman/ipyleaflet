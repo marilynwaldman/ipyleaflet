{
 "cells": [
  {
   "cell_type": "code",
   "execution_count": null,
   "metadata": {
    "collapsed": false
   },
   "outputs": [],
   "source": [
    "%matplotlib inline"
   ]
  },
  {
   "cell_type": "markdown",
   "metadata": {},
   "source": [
    "\nStack and Crop Raster Data Using EarthPy\n========================================\n\nLearn how to stack and crop satellite imagery using EarthPy\n"
   ]
  },
  {
   "cell_type": "markdown",
   "metadata": {},
   "source": [
    "Stack and Crop Raster Data Using EarthPy\n---------------------------------------------\n\n<div class=\"alert alert-info\"><h4>Note</h4><p>The examples below will show you how to use the ``es.stack()`` and\n      ``es.crop_image()`` functions from EarthPy.</p></div>\n\n"
   ]
  },
  {
   "cell_type": "markdown",
   "metadata": {},
   "source": [
    "Stack Multi Band Imagery\n-----------------------------\nSome remote sensing datasets are stored with each band in a separate file. However,\noften you want to use all of the bands together in your analysis. For example\nyou need all of the bands together in the same file or \"stack\" in order to plot a color\nRGB image. EarthPy has a ``stack()`` function that allows you\nto take a set of ``.tif`` files that are all in the same spatial extent, CRS and resolution\nand either export them together a single stacked ``.tif`` file or work with them in Python\ndirectly as a stacked numpy array.\n\nTo begin using the EarthPy ``stack()`` function, import the needed packages\nand create an array to be plotted. Below you plot the data as continuous with a colorbar\nusing the ``plot_bands()`` function.\n\n"
   ]
  },
  {
   "cell_type": "markdown",
   "metadata": {},
   "source": [
    "Import Packages\n------------------------------\n\nYou will need several packages to stack your raster. You will use GeoPandas to\nopen up a shapefile that will be used to crop your data. You will primarily be\nusing the EarthPy spatial module in this vignette.\n\n"
   ]
  },
  {
   "cell_type": "code",
   "execution_count": null,
   "metadata": {
    "collapsed": false
   },
   "outputs": [],
   "source": [
    "import os\nfrom glob import glob\nimport matplotlib.pyplot as plt\nimport rasterio as rio\nfrom rasterio.plot import plotting_extent\nimport geopandas as gpd\nimport earthpy as et\nimport earthpy.spatial as es\nimport earthpy.plot as ep"
   ]
  },
  {
   "cell_type": "markdown",
   "metadata": {},
   "source": [
    "Get Example Data Ready for Stack\n----------------------------------\nWith EarthPy you can create a stack from all of the Landsat .tif files (one per band)\nin a folder with the ``es.stack()`` function.\n\n"
   ]
  },
  {
   "cell_type": "markdown",
   "metadata": {},
   "source": [
    "Error found on Windows systems\n-------------------------------\n<div class=\"alert alert-info\"><h4>Note</h4><p>If you are running this script on a Windows system, there is a\n      known bug with ``.to_crs()``, which is used in this script. If an error\n      occurs, you have to reset your os environment with the command\n      ``os.environ[\"PROJ_LIB\"] = r\"path-to-share-folder-in-environment\"``.</p></div>\n\n"
   ]
  },
  {
   "cell_type": "code",
   "execution_count": null,
   "metadata": {
    "collapsed": false
   },
   "outputs": [],
   "source": [
    "# Get sample data from EarthPy and setting your home working directory\n\ndata_path = et.data.get_data(\"vignette-landsat\")\nos.chdir(os.path.join(et.io.HOME, \"earth-analytics\"))\n\n# Prepare the landsat bands to be stacked using glob and sort\n\nlandsat_bands_data_path = \"data/vignette-landsat/LC08_L1TP_034032_20160621_20170221_01_T1_sr_band*[2-4]*_crop.tif\"\nstack_band_paths = glob(landsat_bands_data_path)\nstack_band_paths.sort()\n\n# Create output directory and the output path\n\noutput_dir = os.path.join(\"data\", \"outputs\")\nif os.path.isdir(output_dir) == False:\n    os.mkdir(output_dir)\n\nraster_out_path = os.path.join(output_dir, \"raster.tiff\")"
   ]
  },
  {
   "cell_type": "markdown",
   "metadata": {},
   "source": [
    "Stack the Bands\n---------------------------\nThe stack function has an optional output argument, where you can write the raster\nto a tiff file in a folder. If you want to use this functionality, make sure there\nis a folder to write your tiff file to.\nThe Stack function also returns two object, an array and a RasterIO profile. Make\nsure to be catch both in variables.\n\n"
   ]
  },
  {
   "cell_type": "code",
   "execution_count": null,
   "metadata": {
    "collapsed": false
   },
   "outputs": [],
   "source": [
    "# Stack Landsat bands\n\nos.chdir(os.path.join(et.io.HOME, \"earth-analytics\"))\narray, raster_prof = es.stack(stack_band_paths, out_path=raster_out_path)"
   ]
  },
  {
   "cell_type": "markdown",
   "metadata": {},
   "source": [
    "Create Extent Object\n--------------------------------\nTo get the raster extent, use the ``plotting_extent`` function on the\narray from ``es.stack()`` and the Rasterio profile or metadata object. The function\nneeds a single\nlayer of a numpy array, which is why we use ``arr[0]``. The function also\nneeds the spatial transformation for the Rasterio object, which can be acquired by accessing\nthe ``\"transform\"`` key within the Rasterio Profile.\n\n"
   ]
  },
  {
   "cell_type": "code",
   "execution_count": null,
   "metadata": {
    "collapsed": false
   },
   "outputs": [],
   "source": [
    "extent = plotting_extent(array[0], raster_prof[\"transform\"])"
   ]
  },
  {
   "cell_type": "markdown",
   "metadata": {},
   "source": [
    "Plot Un-cropped Data\n------------------------------\nYou can see the boundary and the raster before the crop using ``ep.plot_rgb()``\nNotice that the data appear washed out.\n\n"
   ]
  },
  {
   "cell_type": "code",
   "execution_count": null,
   "metadata": {
    "collapsed": false
   },
   "outputs": [],
   "source": [
    "fig, ax = plt.subplots(figsize=(12, 12))\nep.plot_rgb(\n    array,\n    ax=ax,\n    stretch=True,\n    extent=extent,\n    str_clip=0.5,\n    title=\"RGB Image of Un-cropped Raster\",\n)\nplt.show()"
   ]
  },
  {
   "cell_type": "markdown",
   "metadata": {},
   "source": [
    "Explore the Range of Values in the Data\n---------------------------------------\nYou can explore the range of values found in the data using the EarthPy ``hist()``\nfunction. Do you notice any extreme values that may be impacting the stretch\nof the image?\n\n"
   ]
  },
  {
   "cell_type": "code",
   "execution_count": null,
   "metadata": {
    "collapsed": false
   },
   "outputs": [],
   "source": [
    "ep.hist(array, title=[\"Band 1\", \"Band 2\", \"Band 3\"])\nplt.show()"
   ]
  },
  {
   "cell_type": "markdown",
   "metadata": {},
   "source": [
    "No Data Option\n---------------\n``es.stack()`` can handle ``nodata`` values in a raster. To use this\nparameter, specify ``nodata=``. This will mask every pixel that contains\nthe specified ``nodata`` value. The output will be a numpy masked array.\n\n"
   ]
  },
  {
   "cell_type": "code",
   "execution_count": null,
   "metadata": {
    "collapsed": false
   },
   "outputs": [],
   "source": [
    "os.chdir(os.path.join(et.io.HOME, \"earth-analytics\"))\narray_nodata, raster_prof_nodata = es.stack(stack_band_paths, nodata=-9999)\n\n# View hist of data with nodata values removed\nep.hist(\n    array_nodata,\n    title=[\n        \"Band 1 - No Data Values Removed\",\n        \"Band 2 - No Data Values Removed\",\n        \"Band 3 - No Data Values Removed\",\n    ],\n)\nplt.show()\n\n# Recreate extent object for the No Data array\n\nextent_nodata = plotting_extent(\n    array_nodata[0], raster_prof_nodata[\"transform\"]\n)"
   ]
  },
  {
   "cell_type": "markdown",
   "metadata": {},
   "source": [
    "Plot Un-cropped Data\n------------------------------\nPlot the data again after the nodata values are removed.\n\n"
   ]
  },
  {
   "cell_type": "code",
   "execution_count": null,
   "metadata": {
    "collapsed": false
   },
   "outputs": [],
   "source": [
    "fig, ax = plt.subplots(figsize=(12, 12))\nep.plot_rgb(\n    array_nodata,\n    ax=ax,\n    stretch=True,\n    extent=extent,\n    str_clip=0.5,\n    title=\"RGB image of Un-cropped Raster, No Data Value Selected\",\n)\nplt.show()"
   ]
  },
  {
   "cell_type": "markdown",
   "metadata": {},
   "source": [
    "Crop the Data\n------------------\nSometimes you have data for an area that is larger than your study area.\nIt is more efficient to first crop the data to your study area before processing\nit in Python. The fastest and most efficient option is to crop each file\nindividually, write out the cropped raster to a new file, and then stack\nthe new files together. To do this, make sure you have a ShapeFile boundary\nin the form of a GeoPandas object you can use as the cropping object.\nThen, loop through every file you wish to crop and crop the image, then\nwrite it out to a file. Take the rasters created and stack them like\nyou stacked bands in the previous examples.\n\n"
   ]
  },
  {
   "cell_type": "code",
   "execution_count": null,
   "metadata": {
    "collapsed": false
   },
   "outputs": [],
   "source": [
    "os.chdir(os.path.join(et.io.HOME, \"earth-analytics\"))\n\n# Open the crop boundary using GeoPandas.\n\ncrop_bound = gpd.read_file(\n    \"data/vignette-landsat/vector_layers/fire-boundary-geomac/co_cold_springs_20160711_2200_dd83.shp\"\n)"
   ]
  },
  {
   "cell_type": "markdown",
   "metadata": {},
   "source": [
    "Reproject the data\n------------------\n<div class=\"alert alert-info\"><h4>Note</h4><p>If you are on windows, make sure to set your environment here!</p></div>\n\nThe crop function won't work properly if the data are in different Coordinate\nReference Systems (CRS). To fix this, be sure to reproject the crop layer to match\nthe CRS of your raster data.\nTo reproject your data, first get the CRS of the raster from the rasterio profile\nobject. Then use that to reproject using geopandas ``.to_crs`` method.\n\n"
   ]
  },
  {
   "cell_type": "code",
   "execution_count": null,
   "metadata": {
    "collapsed": false
   },
   "outputs": [],
   "source": [
    "os.chdir(os.path.join(et.io.HOME, \"earth-analytics\"))\n\nwith rio.open(stack_band_paths[0]) as raster_crs:\n    crop_raster_profile = raster_crs.profile\n    crop_bound_utm13N = crop_bound.to_crs(crop_raster_profile[\"crs\"])"
   ]
  },
  {
   "cell_type": "markdown",
   "metadata": {},
   "source": [
    "Crop Each Band\n--------------\nWhen you need to crop and stack a set of images, it is  most efficient to first\ncrop each image, and then stack it.\n``es.crop_all()`` is an efficient way to crop all bands in an image quickly.\nThe function will write out cropped rasters to a\ndirectory and return a list of file paths that can then be used with\n``es.stack()``.\n\n"
   ]
  },
  {
   "cell_type": "code",
   "execution_count": null,
   "metadata": {
    "collapsed": false
   },
   "outputs": [],
   "source": [
    "os.chdir(os.path.join(et.io.HOME, \"earth-analytics\"))\n\nband_paths_list = es.crop_all(\n    stack_band_paths, output_dir, crop_bound_utm13N, overwrite=True\n)"
   ]
  },
  {
   "cell_type": "markdown",
   "metadata": {},
   "source": [
    "Stack All Bands\n---------------\nOnce the data are cropped, you are ready to create a new stack.\n\n"
   ]
  },
  {
   "cell_type": "code",
   "execution_count": null,
   "metadata": {
    "collapsed": false
   },
   "outputs": [],
   "source": [
    "os.chdir(os.path.join(et.io.HOME, \"earth-analytics\"))\n\ncropped_array, array_raster_profile = es.stack(band_paths_list, nodata=-9999)\ncrop_extent = plotting_extent(\n    cropped_array[0], array_raster_profile[\"transform\"]\n)\n\n# Plotting the cropped image\n# sphinx_gallery_thumbnail_number = 5\nfig, ax = plt.subplots(figsize=(12, 6))\ncrop_bound_utm13N.boundary.plot(ax=ax, color=\"red\", zorder=10)\nep.plot_rgb(\n    cropped_array,\n    ax=ax,\n    stretch=True,\n    extent=crop_extent,\n    title=\"Cropped Raster and Fire Boundary\",\n)\nplt.show()"
   ]
  },
  {
   "cell_type": "markdown",
   "metadata": {},
   "source": [
    "Crop Individual Bands\n---------------------\nIf you only need to crop one raster image, you can use EarthPy's \n``es.crop_image()`` function.\nThis function takes a Rasterio object and crops it to the provided \nspatial extent.\n\n"
   ]
  },
  {
   "cell_type": "code",
   "execution_count": null,
   "metadata": {
    "collapsed": false
   },
   "outputs": [],
   "source": [
    "# Open Landsat image as a Rasterio object in order to crop it\nos.chdir(os.path.join(et.io.HOME, \"earth-analytics\"))\n\nwith rio.open(stack_band_paths[0]) as src:\n    single_cropped_image, single_cropped_meta = es.crop_image(\n        src, crop_bound_utm13N\n    )\n\n# Create the extent object\nsingle_crop_extent = plotting_extent(\n    single_cropped_image[0], single_cropped_meta[\"transform\"]\n)\n\n# Plot the newly cropped image\nfig, ax = plt.subplots(figsize=(12, 6))\ncrop_bound_utm13N.boundary.plot(ax=ax, color=\"red\", zorder=10)\nep.plot_bands(\n    single_cropped_image,\n    ax=ax,\n    extent=single_crop_extent,\n    title=\"Single Cropped Raster and Fire Boundary\",\n)\nplt.show()"
   ]
  }
 ],
 "metadata": {
  "kernelspec": {
   "display_name": "Python 3",
   "language": "python",
   "name": "python3"
  },
  "language_info": {
   "codemirror_mode": {
    "name": "ipython",
    "version": 3
   },
   "file_extension": ".py",
   "mimetype": "text/x-python",
   "name": "python",
   "nbconvert_exporter": "python",
   "pygments_lexer": "ipython3",
   "version": "3.7.3"
  }
 },
 "nbformat": 4,
 "nbformat_minor": 0
}
