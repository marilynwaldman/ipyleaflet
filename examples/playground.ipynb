{
 "cells": [
  {
   "cell_type": "code",
   "execution_count": 1,
   "metadata": {},
   "outputs": [
    {
     "data": {
      "application/vnd.jupyter.widget-view+json": {
       "model_id": "b6447b20cd8f412a81bd79c33139db13",
       "version_major": 2,
       "version_minor": 0
      },
      "text/plain": [
       "Map(center=[38.128, 2.588], controls=(ZoomControl(options=['position', 'zoom_in_text', 'zoom_in_title', 'zoom_…"
      ]
     },
     "metadata": {},
     "output_type": "display_data"
    }
   ],
   "source": [
    "from ipyleaflet import Map, basemaps\n",
    "\n",
    "center = [38.128, 2.588]\n",
    "zoom = 5\n",
    "\n",
    "Map(basemap=basemaps.OpenStreetMap.Mapnik, center=center, zoom=zoom)"
   ]
  },
  {
   "cell_type": "code",
   "execution_count": 5,
   "metadata": {},
   "outputs": [
    {
     "data": {
      "application/vnd.jupyter.widget-view+json": {
       "model_id": "3a4e00af1114473b83c07542a360f4d0",
       "version_major": 2,
       "version_minor": 0
      },
      "text/plain": [
       "Map(center=[52, 10], controls=(ZoomControl(options=['position', 'zoom_in_text', 'zoom_in_title', 'zoom_out_tex…"
      ]
     },
     "metadata": {},
     "output_type": "display_data"
    }
   ],
   "source": [
    "#https://{s}.basemaps.cartocdn.com/light_nolabels/{z}/{x}/{y}{r}.png\n",
    "#Map(basemap=basemaps.OpenStreetMap.Mapnik, center=center, zoom=zoom) \n",
    "\n",
    "Map(center=(52, 10), zoom=8, basemap=basemaps.CartoDB.DarkMatter)"
   ]
  },
  {
   "cell_type": "code",
   "execution_count": 2,
   "metadata": {},
   "outputs": [
    {
     "data": {
      "application/vnd.jupyter.widget-view+json": {
       "model_id": "27cfeb187a71402ca74df1d5c3981dc7",
       "version_major": 2,
       "version_minor": 0
      },
      "text/plain": [
       "Map(center=[38.491, -95.712], controls=(ZoomControl(options=['position', 'zoom_in_text', 'zoom_in_title', 'zoo…"
      ]
     },
     "metadata": {},
     "output_type": "display_data"
    }
   ],
   "source": [
    "Map(basemap=basemaps.CartoDB.Positron, center=(38.491, -95.712), zoom=4)\n"
   ]
  },
  {
   "cell_type": "code",
   "execution_count": 8,
   "metadata": {},
   "outputs": [
    {
     "data": {
      "application/vnd.jupyter.widget-view+json": {
       "model_id": "c1edb49529f34fb3ba9140d65231a719",
       "version_major": 2,
       "version_minor": 0
      },
      "text/plain": [
       "Map(center=[38.128, 2.588], controls=(ZoomControl(options=['position', 'zoom_in_text', 'zoom_in_title', 'zoom_…"
      ]
     },
     "metadata": {},
     "output_type": "display_data"
    }
   ],
   "source": [
    "Map(basemap=basemaps.CartoDB.Positron, center=center, zoom=zoom)"
   ]
  },
  {
   "cell_type": "code",
   "execution_count": null,
   "metadata": {},
   "outputs": [],
   "source": []
  }
 ],
 "metadata": {
  "kernelspec": {
   "display_name": "Python 3",
   "language": "python",
   "name": "python3"
  },
  "language_info": {
   "codemirror_mode": {
    "name": "ipython",
    "version": 3
   },
   "file_extension": ".py",
   "mimetype": "text/x-python",
   "name": "python",
   "nbconvert_exporter": "python",
   "pygments_lexer": "ipython3",
   "version": "3.7.6"
  }
 },
 "nbformat": 4,
 "nbformat_minor": 2
}
