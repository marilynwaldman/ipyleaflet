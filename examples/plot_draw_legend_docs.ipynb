{
 "cells": [
  {
   "cell_type": "code",
   "execution_count": null,
   "metadata": {
    "collapsed": false
   },
   "outputs": [],
   "source": [
    "%matplotlib inline"
   ]
  },
  {
   "cell_type": "markdown",
   "metadata": {},
   "source": [
    "\nCustom Legends with EarthPy\n===========================\n\nLearn how to create discrete legends for raster plots with classes that you define in Python using EarthPy.\n"
   ]
  },
  {
   "cell_type": "markdown",
   "metadata": {},
   "source": [
    "Plotting Data in Python Using EarthPy\n-------------------------------------\n\n<div class=\"alert alert-info\"><h4>Note</h4><p>The examples below will show you how to use the ``draw_legend()`` function for creating plots</p></div>\n\n"
   ]
  },
  {
   "cell_type": "markdown",
   "metadata": {},
   "source": [
    "Plot Continuous Data\n---------------------\n\nLet's explore a simple plot using EarthPy. To begin, import the needed packages\nand create an array to be plotted. Below we plot the data as continuous with a colorbar\nusing the ``plot_bands()`` function.\n\n"
   ]
  },
  {
   "cell_type": "code",
   "execution_count": null,
   "metadata": {
    "collapsed": false
   },
   "outputs": [],
   "source": [
    "import matplotlib.pyplot as plt\nimport earthpy.plot as ep\nimport numpy as np\n\n# Create a numpy array. Let's pretend this is what you want to plot.\narr = np.random.randint(4, size=(5, 5))\n\n# When plot_bands is updated a cbar will be here as well\nep.plot_bands(arr)\nplt.show()"
   ]
  },
  {
   "cell_type": "markdown",
   "metadata": {},
   "source": [
    "Create Custom Discrete Legends with Earthpy\n-------------------------------------------\nIf you want to create a custom categorical legend, you can use the ``ep.draw_legend()`` function.\n\n"
   ]
  },
  {
   "cell_type": "code",
   "execution_count": null,
   "metadata": {
    "collapsed": false
   },
   "outputs": [],
   "source": [
    "f, ax = plt.subplots(figsize=(8, 5))\nim = ax.imshow(arr)\nep.draw_legend(im)\nplt.tight_layout()"
   ]
  },
  {
   "cell_type": "markdown",
   "metadata": {},
   "source": [
    "Customize Discrete Legends\n---------------------------\nBy default the draw_legend function creates a legend with default categories.\nYou can customize the legend by adding titles.\n\n"
   ]
  },
  {
   "cell_type": "code",
   "execution_count": null,
   "metadata": {
    "collapsed": false
   },
   "outputs": [],
   "source": [
    "f, ax = plt.subplots(figsize=(8, 5))\nim = ax.imshow(arr)\nep.draw_legend(im, titles=[\"Small\", \"Bigger\", \"Even Bigger\", \"Ginormous\"])\nplt.tight_layout()"
   ]
  },
  {
   "cell_type": "markdown",
   "metadata": {},
   "source": [
    "Discrete Legends With Missing Values in the Array\n~~~~~~~~~~~~~~~~~~~~~~~~~~~~~~~~~~~~~~~~~~~~~~~~~\n\nNow let's pretend that you are creating a series of classified plots. You may have a range of\nvalues that are expected between 0-4. However not all of your data has all values\nIn this case, your legend won't be able to by default create 4 categories because one\ndoesn't exist in your data. In this instance, you can specify the values explicitly:\n\n"
   ]
  },
  {
   "cell_type": "code",
   "execution_count": null,
   "metadata": {
    "collapsed": false
   },
   "outputs": [],
   "source": [
    "new_arr = arr.copy()\nnew_arr[new_arr == 0] = 1\n\nf, ax = plt.subplots(figsize=(8, 5))\nim = ax.imshow(new_arr)\nep.draw_legend(\n    im,\n    titles=[\"Small\", \"Bigger\", \"Even Bigger\", \"Ginormous\"],\n    classes=[0, 1, 2, 3],\n)\nplt.tight_layout()"
   ]
  },
  {
   "cell_type": "markdown",
   "metadata": {},
   "source": [
    "Custom Colormaps and Ensuring Cmaps Apply to All Valid Classes\n~~~~~~~~~~~~~~~~~~~~~~~~~~~~~~~~~~~~~~~~~~~~~~~~~~~~~~~~~~~~~~\n\nYou can customize the color map used in your plot too. Notice that in this example,\n4 category colors are rendered. Yet, the image only contains three values and thus will be\nrendered using three colors. The three colors used to render the image are incorrect by default.\nThe colors begin at white and end at black even though the value of 0 which should be black\nis missing from the data.\n\n"
   ]
  },
  {
   "cell_type": "code",
   "execution_count": null,
   "metadata": {
    "collapsed": false
   },
   "outputs": [],
   "source": [
    "f, ax = plt.subplots(figsize=(8, 5))\nim = ax.imshow(new_arr, cmap=\"Greys_r\")\nep.draw_legend(\n    im,\n    titles=[\"Small\", \"Bigger\", \"Even Bigger\", \"Ginormous\"],\n    classes=[0, 1, 2, 3],\n)\nplt.tight_layout()"
   ]
  },
  {
   "cell_type": "markdown",
   "metadata": {},
   "source": [
    "Specify vmin and vmax to set the colormap range\n~~~~~~~~~~~~~~~~~~~~~~~~~~~~~~~~~~~~~~~~~~~~~~~~~~~~~~~~~~\n\nIn this case, you can use the ``vmin`` and ``vmax`` arguments to set the range of values to use for the colormap.\n\n"
   ]
  },
  {
   "cell_type": "code",
   "execution_count": null,
   "metadata": {
    "collapsed": false
   },
   "outputs": [],
   "source": [
    "f, ax = plt.subplots(figsize=(8, 5))\nim = ax.imshow(new_arr, cmap=\"Greys_r\", vmin=0, vmax=3)\nep.draw_legend(\n    im,\n    titles=[\"Small\", \"Bigger\", \"Even Bigger\", \"Ginormous\"],\n    classes=[0, 1, 2, 3],\n)\nplt.tight_layout()"
   ]
  }
 ],
 "metadata": {
  "kernelspec": {
   "display_name": "Python 3",
   "language": "python",
   "name": "python3"
  },
  "language_info": {
   "codemirror_mode": {
    "name": "ipython",
    "version": 3
   },
   "file_extension": ".py",
   "mimetype": "text/x-python",
   "name": "python",
   "nbconvert_exporter": "python",
   "pygments_lexer": "ipython3",
   "version": "3.7.3"
  }
 },
 "nbformat": 4,
 "nbformat_minor": 0
}
