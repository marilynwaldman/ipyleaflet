{
 "cells": [
  {
   "cell_type": "code",
   "execution_count": null,
   "metadata": {
    "collapsed": false
   },
   "outputs": [],
   "source": [
    "%matplotlib inline"
   ]
  },
  {
   "cell_type": "markdown",
   "metadata": {},
   "source": [
    "\nPlot Bands of Satellite Imagery with EarthPy\n==================================================================\n\nLearn how to use the EarthPy ``plot_bands()`` function to quickly plot\nraster bands for an image. ``Plot_bands()`` can be used to both\nplot many bands with one command with custom titles and legends OR\nto plot a single raster layer with (or without) a legend.\n"
   ]
  },
  {
   "cell_type": "markdown",
   "metadata": {},
   "source": [
    "Plot Raster Data Layers Using EarthPy\n--------------------------------------\n\n<div class=\"alert alert-info\"><h4>Note</h4><p>The examples below will show you how to use the ``plot_bands()`` function\n   to plot individual raster layers in images using python. To plot rgb data,\n   read help documentation related to ``ep.plot_rgb()``.</p></div>\n\nIn this vignette, you will use Landsat 8 data. To begin, you will create a\nstack of bands using Landsat 8 data. You will then plot the raster layers.\n\n"
   ]
  },
  {
   "cell_type": "markdown",
   "metadata": {},
   "source": [
    "Import Packages\n---------------\n\nIn order to use the ``plot_bands()`` function with Landsat 8 data, the\nfollowing packages need to be imported.\n\n"
   ]
  },
  {
   "cell_type": "code",
   "execution_count": null,
   "metadata": {
    "collapsed": false
   },
   "outputs": [],
   "source": [
    "import os\nfrom glob import glob\nimport matplotlib.pyplot as plt\nimport earthpy as et\nimport earthpy.spatial as es\nimport earthpy.plot as ep"
   ]
  },
  {
   "cell_type": "markdown",
   "metadata": {},
   "source": [
    "Import Example Data\n-------------------\n\nTo get started, make sure your directory is set. Then, create a stack from\nall of the Landsat .tif files (one per band).\n\n"
   ]
  },
  {
   "cell_type": "code",
   "execution_count": null,
   "metadata": {
    "collapsed": false
   },
   "outputs": [],
   "source": [
    "# Get data for example\ndata = et.data.get_data(\"vignette-landsat\")\n\n# Set working directory\nos.chdir(os.path.join(et.io.HOME, \"earth-analytics\"))\n\n# Stack the Landsat 8 bands\n# This creates a numpy array with each \"layer\" representing a single band\n# You can use the nodata= parameter to mask nodata values\nlandsat_path = glob(\n    os.path.join(\n        \"data\",\n        \"vignette-landsat\",\n        \"LC08_L1TP_034032_20160621_20170221_01_T1_sr_band*_crop.tif\",\n    )\n)\nlandsat_path.sort()\narray_stack, meta_data = es.stack(landsat_path, nodata=-9999)"
   ]
  },
  {
   "cell_type": "markdown",
   "metadata": {},
   "source": [
    "Plot All Bands in a Stack\n--------------------------\n\nWhen you give ``ep.plot_bands()`` a three dimensional numpy array,\nit will plot all layers in the numpy array. You can create unique titles for\neach image by providing a list of titles using the ``title=`` parameter.\nThe list must contain the same number of strings as there are bands in the\nstack.\n\n"
   ]
  },
  {
   "cell_type": "code",
   "execution_count": null,
   "metadata": {
    "collapsed": false
   },
   "outputs": [],
   "source": [
    "titles = [\"Ultra Blue\", \"Blue\", \"Green\", \"Red\", \"NIR\", \"SWIR 1\", \"SWIR 2\"]\n# sphinx_gallery_thumbnail_number = 1\nep.plot_bands(array_stack, title=titles)\nplt.show()"
   ]
  },
  {
   "cell_type": "markdown",
   "metadata": {},
   "source": [
    "Plot One Band in a Stack\n------------------------\n\nIf you give ``ep.plot_bands()`` a one dimensional numpy array,\nit will only plot that single band. You can turn off the\ncolorbar using the ``cbar`` parameter (``cbar=False``).\n\n"
   ]
  },
  {
   "cell_type": "code",
   "execution_count": null,
   "metadata": {
    "collapsed": false
   },
   "outputs": [],
   "source": [
    "ep.plot_bands(array_stack[4], cbar=False)\nplt.show()"
   ]
  },
  {
   "cell_type": "markdown",
   "metadata": {},
   "source": [
    "Turn On Scaling\n-----------------\n\n``ep.plot_bands()`` does not scale imagery to a 0-255 scale by default.\nHowever, often this range of values makes it easier for matplotlib to plot\nthe data. To turn on scaling, set the scale parameter to ``True``. Below you\nplot band 5 of the satellite imagery with scaling turned on in order to see\nthe data without the values being modified.\n\n"
   ]
  },
  {
   "cell_type": "code",
   "execution_count": null,
   "metadata": {
    "collapsed": false
   },
   "outputs": [],
   "source": [
    "ep.plot_bands(array_stack[4], cbar=False)\nplt.show()"
   ]
  },
  {
   "cell_type": "markdown",
   "metadata": {},
   "source": [
    "Adjust the Number of Columns for a Multi Band Plot\n---------------------------------------------------\n\nThe number of columns used while plotting multiple bands can be changed in\norder to change the arrangement of the images overall.\n\n"
   ]
  },
  {
   "cell_type": "code",
   "execution_count": null,
   "metadata": {
    "collapsed": false
   },
   "outputs": [],
   "source": [
    "ep.plot_bands(array_stack, cols=2)\nplt.show()"
   ]
  }
 ],
 "metadata": {
  "kernelspec": {
   "display_name": "Python 3",
   "language": "python",
   "name": "python3"
  },
  "language_info": {
   "codemirror_mode": {
    "name": "ipython",
    "version": 3
   },
   "file_extension": ".py",
   "mimetype": "text/x-python",
   "name": "python",
   "nbconvert_exporter": "python",
   "pygments_lexer": "ipython3",
   "version": "3.7.3"
  }
 },
 "nbformat": 4,
 "nbformat_minor": 0
}
