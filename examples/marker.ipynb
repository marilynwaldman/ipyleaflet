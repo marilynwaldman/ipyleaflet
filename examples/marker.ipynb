{
 "cells": [
  {
   "cell_type": "code",
   "execution_count": 1,
   "metadata": {},
   "outputs": [
    {
     "data": {
      "application/vnd.jupyter.widget-view+json": {
       "model_id": "5f7bc95a7a5249668bfa3cd7aa93cfff",
       "version_major": 2,
       "version_minor": 0
      },
      "text/plain": [
       "Map(center=[38.128, 2.588], controls=(ZoomControl(options=['position', 'zoom_in_text', 'zoom_in_title', 'zoom_…"
      ]
     },
     "metadata": {},
     "output_type": "display_data"
    }
   ],
   "source": [
    "from ipyleaflet import Map, basemaps\n",
    "\n",
    "center = [38.128, 2.588]\n",
    "zoom = 5\n",
    "\n",
    "Map(basemap=basemaps.OpenStreetMap.Mapnik, center=center, zoom=zoom)"
   ]
  },
  {
   "cell_type": "code",
   "execution_count": 1,
   "metadata": {},
   "outputs": [
    {
     "ename": "NameError",
     "evalue": "name 'basemaps' is not defined",
     "output_type": "error",
     "traceback": [
      "\u001b[0;31m---------------------------------------------------------------------------\u001b[0m",
      "\u001b[0;31mNameError\u001b[0m                                 Traceback (most recent call last)",
      "\u001b[0;32m<ipython-input-1-5686e1d5fabe>\u001b[0m in \u001b[0;36m<module>\u001b[0;34m\u001b[0m\n\u001b[1;32m      5\u001b[0m \u001b[0mcenter\u001b[0m \u001b[0;34m=\u001b[0m \u001b[0;34m(\u001b[0m\u001b[0;36m52.204793\u001b[0m\u001b[0;34m,\u001b[0m \u001b[0;36m360.121558\u001b[0m\u001b[0;34m)\u001b[0m\u001b[0;34m\u001b[0m\u001b[0;34m\u001b[0m\u001b[0m\n\u001b[1;32m      6\u001b[0m \u001b[0;34m\u001b[0m\u001b[0m\n\u001b[0;32m----> 7\u001b[0;31m \u001b[0mm\u001b[0m \u001b[0;34m=\u001b[0m \u001b[0mMap\u001b[0m\u001b[0;34m(\u001b[0m\u001b[0mbasemap\u001b[0m\u001b[0;34m=\u001b[0m\u001b[0mbasemaps\u001b[0m\u001b[0;34m.\u001b[0m\u001b[0mCartoDB\u001b[0m\u001b[0;34m.\u001b[0m\u001b[0mPositron\u001b[0m\u001b[0;34m,\u001b[0m\u001b[0mcenter\u001b[0m\u001b[0;34m=\u001b[0m\u001b[0mcenter\u001b[0m\u001b[0;34m,\u001b[0m \u001b[0mzoom\u001b[0m\u001b[0;34m=\u001b[0m\u001b[0;36m9\u001b[0m\u001b[0;34m,\u001b[0m \u001b[0mclose_popup_on_click\u001b[0m\u001b[0;34m=\u001b[0m\u001b[0;32mFalse\u001b[0m\u001b[0;34m)\u001b[0m\u001b[0;34m\u001b[0m\u001b[0;34m\u001b[0m\u001b[0m\n\u001b[0m\u001b[1;32m      8\u001b[0m \u001b[0;34m\u001b[0m\u001b[0m\n\u001b[1;32m      9\u001b[0m \u001b[0mmarker\u001b[0m \u001b[0;34m=\u001b[0m \u001b[0mMarker\u001b[0m\u001b[0;34m(\u001b[0m\u001b[0mlocation\u001b[0m\u001b[0;34m=\u001b[0m\u001b[0;34m(\u001b[0m\u001b[0;36m52.1\u001b[0m\u001b[0;34m,\u001b[0m \u001b[0;36m359.9\u001b[0m\u001b[0;34m)\u001b[0m\u001b[0;34m)\u001b[0m\u001b[0;34m\u001b[0m\u001b[0;34m\u001b[0m\u001b[0m\n",
      "\u001b[0;31mNameError\u001b[0m: name 'basemaps' is not defined"
     ]
    }
   ],
   "source": [
    "from ipywidgets import HTML\n",
    "\n",
    "from ipyleaflet import Map, Marker, Popup\n",
    "\n",
    "center = (52.204793, 360.121558)\n",
    "\n",
    "m = Map(basemap=basemaps.CartoDB.Positron,center=center, zoom=9, close_popup_on_click=False)\n",
    "\n",
    "marker = Marker(location=(52.1, 359.9))\n",
    "m.add_layer(marker)\n",
    "\n",
    "message1 = HTML()\n",
    "message2 = HTML()\n",
    "message1.value = \"Try clicking the marker!\"\n",
    "message2.value = \"Hello <b>World</b>\"\n",
    "message2.placeholder = \"Some HTML\"\n",
    "message2.description = \"Some HTML\"\n",
    "\n",
    "# Popup with a given location on the map:\n",
    "popup = Popup(\n",
    "    location=center,\n",
    "    child=message1,\n",
    "    close_button=False,\n",
    "    auto_close=False,\n",
    "    close_on_escape_key=False\n",
    ")\n",
    "m.add_layer(popup)\n",
    "\n",
    "# Popup associated to a layer\n",
    "marker.popup = message2\n",
    "\n",
    "m"
   ]
  },
  {
   "cell_type": "code",
   "execution_count": 2,
   "metadata": {},
   "outputs": [
    {
     "data": {
      "application/vnd.jupyter.widget-view+json": {
       "model_id": "af45410c97aa4b7babf9aa65c62afa25",
       "version_major": 2,
       "version_minor": 0
      },
      "text/plain": [
       "Map(center=[52, 10], controls=(ZoomControl(options=['position', 'zoom_in_text', 'zoom_in_title', 'zoom_out_tex…"
      ]
     },
     "metadata": {},
     "output_type": "display_data"
    }
   ],
   "source": [
    "#https://{s}.basemaps.cartocdn.com/light_nolabels/{z}/{x}/{y}{r}.png\n",
    "#Map(basemap=basemaps.OpenStreetMap.Mapnik, center=center, zoom=zoom) \n",
    "\n",
    "Map(center=(52, 10), zoom=8, basemap=basemaps.CartoDB.DarkMatter)"
   ]
  },
  {
   "cell_type": "code",
   "execution_count": 4,
   "metadata": {},
   "outputs": [
    {
     "data": {
      "application/vnd.jupyter.widget-view+json": {
       "model_id": "c2ceb45befec45d59d146c6abfb74040",
       "version_major": 2,
       "version_minor": 0
      },
      "text/plain": [
       "Map(center=[38.491, -95.712], controls=(ZoomControl(options=['position', 'zoom_in_text', 'zoom_in_title', 'zoo…"
      ]
     },
     "metadata": {},
     "output_type": "display_data"
    }
   ],
   "source": [
    "Map(basemap=basemaps.CartoDB.Positron, center=(38.491, -95.712), zoom=4)\n"
   ]
  },
  {
   "cell_type": "code",
   "execution_count": 8,
   "metadata": {},
   "outputs": [
    {
     "data": {
      "application/vnd.jupyter.widget-view+json": {
       "model_id": "c1edb49529f34fb3ba9140d65231a719",
       "version_major": 2,
       "version_minor": 0
      },
      "text/plain": [
       "Map(center=[38.128, 2.588], controls=(ZoomControl(options=['position', 'zoom_in_text', 'zoom_in_title', 'zoom_…"
      ]
     },
     "metadata": {},
     "output_type": "display_data"
    }
   ],
   "source": [
    "Map(basemap=basemaps.CartoDB.Positron, center=center, zoom=zoom)"
   ]
  },
  {
   "cell_type": "code",
   "execution_count": null,
   "metadata": {},
   "outputs": [],
   "source": []
  }
 ],
 "metadata": {
  "kernelspec": {
   "display_name": "Python 3",
   "language": "python",
   "name": "python3"
  },
  "language_info": {
   "codemirror_mode": {
    "name": "ipython",
    "version": 3
   },
   "file_extension": ".py",
   "mimetype": "text/x-python",
   "name": "python",
   "nbconvert_exporter": "python",
   "pygments_lexer": "ipython3",
   "version": "3.7.6"
  }
 },
 "nbformat": 4,
 "nbformat_minor": 2
}
