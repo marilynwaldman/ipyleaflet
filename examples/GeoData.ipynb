{
 "cells": [
  {
   "cell_type": "markdown",
   "metadata": {},
   "source": [
    "#                                        GeoData"
   ]
  },
  {
   "cell_type": "code",
   "execution_count": 2,
   "metadata": {},
   "outputs": [
    {
     "name": "stdout",
     "output_type": "stream",
     "text": [
      "\u001b[33mDEPRECATION: Python 2.7 will reach the end of its life on January 1st, 2020. Please upgrade your Python as Python 2.7 won't be maintained after that date. A future version of pip will drop support for Python 2.7. More details about Python 2 support in pip, can be found at https://pip.pypa.io/en/latest/development/release-process/#python-2-support\u001b[0m\n",
      "Collecting geopandas\n",
      "\u001b[?25l  Downloading https://files.pythonhosted.org/packages/52/4f/6440a63c9367d981a91de458467eed4a8e259a26f24158071b610a1ed1dd/geopandas-0.6.3-py2.py3-none-any.whl (920kB)\n",
      "\u001b[K     |████████████████████████████████| 921kB 547kB/s eta 0:00:01\n",
      "\u001b[?25hCollecting fiona\n",
      "\u001b[?25l  Downloading https://files.pythonhosted.org/packages/0f/c3/a69fb6d728dac89115521e3902c983407984ea92d33db099a76e87ae33e9/Fiona-1.8.13.post1-cp27-cp27m-macosx_10_9_x86_64.whl (13.9MB)\n",
      "\u001b[K     |████████████████████████████████| 13.9MB 7.1MB/s eta 0:00:01\n",
      "\u001b[?25hCollecting pandas>=0.23.0\n",
      "\u001b[?25l  Downloading https://files.pythonhosted.org/packages/52/ff/912fe03a623a70bcf297d466013a0b4f4c68c3b60f86bf226682d061fc09/pandas-0.24.2-cp27-cp27m-macosx_10_6_intel.macosx_10_9_intel.macosx_10_9_x86_64.macosx_10_10_intel.macosx_10_10_x86_64.whl (16.7MB)\n",
      "\u001b[K     |████████████████████████████████| 16.7MB 9.9MB/s eta 0:00:011\n",
      "\u001b[?25hCollecting shapely\n",
      "\u001b[?25l  Downloading https://files.pythonhosted.org/packages/48/1f/d5d9003ab5ef3a44c9c87cbc0622fafd6af545c0de7eb1fc3a8432807f20/Shapely-1.7.0-cp27-cp27m-macosx_10_9_x86_64.whl (1.6MB)\n",
      "\u001b[K     |████████████████████████████████| 1.6MB 16.8MB/s eta 0:00:01\n",
      "\u001b[?25hCollecting pyproj\n",
      "\u001b[?25l  Downloading https://files.pythonhosted.org/packages/d6/16/ac08e9b45390a94571704bc91db16dd8c44932a5df405a7bf9d055ac3b96/pyproj-2.2.2-cp27-cp27m-macosx_10_6_intel.macosx_10_9_intel.macosx_10_9_x86_64.macosx_10_10_intel.macosx_10_10_x86_64.whl (11.6MB)\n",
      "\u001b[K     |████████████████████████████████| 11.6MB 7.5MB/s eta 0:00:01\n",
      "\u001b[?25hCollecting cligj>=0.5\n",
      "  Downloading https://files.pythonhosted.org/packages/b7/61/83f3b3d57313f17250263f03cf1631d68c9f4267ce69059063bf8f73d7f4/cligj-0.5.0-py2-none-any.whl\n",
      "Collecting munch\n",
      "  Downloading https://files.pythonhosted.org/packages/cc/ab/85d8da5c9a45e072301beb37ad7f833cd344e04c817d97e0cc75681d248f/munch-2.5.0-py2.py3-none-any.whl\n",
      "Collecting click-plugins>=1.0\n",
      "  Downloading https://files.pythonhosted.org/packages/e9/da/824b92d9942f4e472702488857914bdd50f73021efea15b4cad9aca8ecef/click_plugins-1.1.1-py2.py3-none-any.whl\n",
      "Collecting attrs>=17\n",
      "  Downloading https://files.pythonhosted.org/packages/a2/db/4313ab3be961f7a763066401fb77f7748373b6094076ae2bda2806988af6/attrs-19.3.0-py2.py3-none-any.whl\n",
      "Requirement already satisfied: enum34; python_version < \"3.4\" in /usr/local/lib/python2.7/site-packages (from fiona->geopandas) (1.1.6)\n",
      "Requirement already satisfied: six>=1.7 in /usr/local/lib/python2.7/site-packages/six-1.10.0-py2.7.egg (from fiona->geopandas) (1.10.0)\n",
      "Collecting click<8,>=4.0\n",
      "\u001b[?25l  Downloading https://files.pythonhosted.org/packages/d2/3d/fa76db83bf75c4f8d338c2fd15c8d33fdd7ad23a9b5e57eb6c5de26b430e/click-7.1.2-py2.py3-none-any.whl (82kB)\n",
      "\u001b[K     |████████████████████████████████| 92kB 9.5MB/s  eta 0:00:01\n",
      "\u001b[?25hRequirement already satisfied: python-dateutil>=2.5.0 in /usr/local/lib/python2.7/site-packages (from pandas>=0.23.0->geopandas) (2.6.0)\n",
      "Collecting numpy>=1.12.0\n",
      "\u001b[?25l  Downloading https://files.pythonhosted.org/packages/09/96/84cf406fe7d589f3dba9fc0f737e65985a3526c6d8c783f02d4b5a10825d/numpy-1.16.6-cp27-cp27m-macosx_10_9_x86_64.whl (13.9MB)\n",
      "\u001b[K     |████████████████████████████████| 13.9MB 1.8MB/s eta 0:00:01\n",
      "\u001b[?25hRequirement already satisfied: pytz>=2011k in /usr/local/lib/python2.7/site-packages (from pandas>=0.23.0->geopandas) (2015.7)\n",
      "Collecting aenum; python_version < \"3.6\"\n",
      "  Downloading https://files.pythonhosted.org/packages/6a/c8/1b8513155e4bc68f322e2fbaf90708dd66290a0edaa604ea1675357d18ee/aenum-2.2.3-py2-none-any.whl\n",
      "Installing collected packages: click, cligj, munch, click-plugins, attrs, fiona, numpy, pandas, shapely, aenum, pyproj, geopandas\n",
      "  Found existing installation: numpy 1.10.4\n",
      "    Uninstalling numpy-1.10.4:\n",
      "      Successfully uninstalled numpy-1.10.4\n",
      "  Found existing installation: pandas 0.17.1\n",
      "    Uninstalling pandas-0.17.1:\n",
      "      Successfully uninstalled pandas-0.17.1\n",
      "Successfully installed aenum-2.2.3 attrs-19.3.0 click-7.1.2 click-plugins-1.1.1 cligj-0.5.0 fiona-1.8.13.post1 geopandas-0.6.3 munch-2.5.0 numpy-1.16.6 pandas-0.24.2 pyproj-2.2.2 shapely-1.7.0\n"
     ]
    }
   ],
   "source": [
    "!pip install geopandas\n"
   ]
  },
  {
   "cell_type": "code",
   "execution_count": 1,
   "metadata": {},
   "outputs": [],
   "source": [
    "import ipyleaflet as ipy \n",
    "import geopandas \n",
    "import json"
   ]
  },
  {
   "cell_type": "code",
   "execution_count": 2,
   "metadata": {},
   "outputs": [],
   "source": [
    "m = ipy.Map(center=(52.3,8.0), zoom = 3, basemap= ipy.basemaps.Esri.WorldTopoMap)"
   ]
  },
  {
   "cell_type": "code",
   "execution_count": null,
   "metadata": {},
   "outputs": [],
   "source": [
    "countries = geopandas.read_file(geopandas.datasets.get_path('naturalearth_lowres'))\n",
    "cities = geopandas.read_file(geopandas.datasets.get_path('naturalearth_cities'))\n",
    "rivers = geopandas.read_file(\"https://www.naturalearthdata.com/http//www.naturalearthdata.com/download/10m/physical/ne_10m_rivers_lake_centerlines.zip\")"
   ]
  },
  {
   "cell_type": "markdown",
   "metadata": {},
   "source": [
    "## GeoDataFrame"
   ]
  },
  {
   "cell_type": "code",
   "execution_count": null,
   "metadata": {},
   "outputs": [],
   "source": [
    "countries.head()"
   ]
  },
  {
   "cell_type": "code",
   "execution_count": null,
   "metadata": {},
   "outputs": [],
   "source": [
    "geo_data = ipy.GeoData(geo_dataframe = countries,\n",
    "                       style={'color': 'black', 'fillColor': '#3366cc', 'opacity':0.05, 'weight':1.9, 'dashArray':'2', 'fillOpacity':0.6},\n",
    "                       hover_style={'fillColor': 'red' , 'fillOpacity': 0.2},\n",
    "                       name = 'Countries')\n",
    "m.add_layer(geo_data)\n",
    "m.add_control(ipy.LayersControl())\n",
    "m"
   ]
  },
  {
   "cell_type": "code",
   "execution_count": null,
   "metadata": {},
   "outputs": [],
   "source": [
    "rivers_data = ipy.GeoData(geo_dataframe = rivers,\n",
    "                       style={'color': 'purple', 'opacity':3, 'weight':1.9, 'dashArray':'2', 'fillOpacity':0.6},\n",
    "                       hover_style={'fillColor': 'red' , 'fillOpacity': 0.2},\n",
    "                       name = 'Rivers')\n",
    "m.add_layer(rivers_data)"
   ]
  },
  {
   "cell_type": "code",
   "execution_count": null,
   "metadata": {},
   "outputs": [],
   "source": [
    "#geo_data.geo_dataframe = cities "
   ]
  },
  {
   "cell_type": "code",
   "execution_count": null,
   "metadata": {},
   "outputs": [],
   "source": [
    "#m.remove_layer(geo_data)"
   ]
  },
  {
   "cell_type": "markdown",
   "metadata": {},
   "source": [
    "## Continent"
   ]
  },
  {
   "cell_type": "code",
   "execution_count": null,
   "metadata": {},
   "outputs": [],
   "source": [
    "africa_countries = countries[countries['continent'] == 'Africa']\n",
    "africa_countries.head()"
   ]
  },
  {
   "cell_type": "code",
   "execution_count": null,
   "metadata": {},
   "outputs": [],
   "source": [
    "africa_data = ipy.GeoData(geo_dataframe = africa_countries,\n",
    "                          style={'color': 'black', 'fillColor': 'red', 'opacity':7, 'weight':1.9, 'dashArray':'7', 'fillOpacity':0.2},\n",
    "                          hover_style={'fillColor': 'grey', 'fillOpacity': 0.6},\n",
    "                          name = 'Africa')\n",
    "m.add_layer(africa_data)\n",
    "m"
   ]
  },
  {
   "cell_type": "code",
   "execution_count": null,
   "metadata": {},
   "outputs": [],
   "source": [
    "#m.remove_layer(africa_data)"
   ]
  },
  {
   "cell_type": "code",
   "execution_count": null,
   "metadata": {},
   "outputs": [],
   "source": [
    "m.add_control(ipy.FullScreenControl())"
   ]
  }
 ],
 "metadata": {
  "kernelspec": {
   "display_name": "Python 3",
   "language": "python",
   "name": "python3"
  },
  "language_info": {
   "codemirror_mode": {
    "name": "ipython",
    "version": 3
   },
   "file_extension": ".py",
   "mimetype": "text/x-python",
   "name": "python",
   "nbconvert_exporter": "python",
   "pygments_lexer": "ipython3",
   "version": "3.7.6"
  }
 },
 "nbformat": 4,
 "nbformat_minor": 2
}
