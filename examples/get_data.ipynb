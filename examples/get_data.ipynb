{
 "cells": [
  {
   "cell_type": "code",
   "execution_count": null,
   "metadata": {
    "collapsed": false
   },
   "outputs": [],
   "source": [
    "%matplotlib inline"
   ]
  },
  {
   "cell_type": "markdown",
   "metadata": {},
   "source": [
    "\nDownload Data with EarthPy\n==================================================================\n\nLearn how to download data subsets available in EarthPy and other\ndata accessible via URLs using EarthPy.\n"
   ]
  },
  {
   "cell_type": "markdown",
   "metadata": {},
   "source": [
    "Download Data Using EarthPy\n----------------------------\n\n<div class=\"alert alert-info\"><h4>Note</h4><p>The example below will show you how to use the ``data.get_data()``\n   function to download data from URLs and EarthPy data subsets.</p></div>\n\nThe example below walks you through a typical workflow for downloading\ndata using EarthPy. You can use ``data.get_data()`` to download data\nsubsets available in EarthPy using a key name for the desired data\nsubset. The descriptions of available data keys can be found\nin the documentation on\n`EarthPy data keys <https://earthpy.readthedocs.io/en/latest/earthpy-data-subsets.html>`_.\n\nIn addition, you can use ``data.get_data()`` to download data from a URL.\nThe URL can host a single file (e.g. .csv) or a compressed .zip file,\nwhich will be extracted as a directory with the same name.\n\nBy default, the function ``data.get_data()`` will download data to a\nsubdirectory called earth-analytics in the user's home directory. If the\nearth-analytics directory does not already exist, the function will create it.\n\n"
   ]
  },
  {
   "cell_type": "markdown",
   "metadata": {},
   "source": [
    "Import Packages\n---------------\n\nTo begin, import the needed packages.\n\n"
   ]
  },
  {
   "cell_type": "code",
   "execution_count": null,
   "metadata": {
    "collapsed": false
   },
   "outputs": [],
   "source": [
    "import os\nimport earthpy as et"
   ]
  },
  {
   "cell_type": "markdown",
   "metadata": {},
   "source": [
    "View List of EarthPy Data Subsets\n----------------------------------\n\nYou can view a list of available data subsets in EarthPy by calling the\nfunction ``data.get_data()`` with no parameters.\n\nTo see descriptions of these data subsets, you can review the documentation on\n`EarthPy data keys <https://earthpy.readthedocs.io/en/latest/earthpy-data-subsets.html>`_.\n\n"
   ]
  },
  {
   "cell_type": "code",
   "execution_count": null,
   "metadata": {
    "collapsed": false
   },
   "outputs": [],
   "source": [
    "et.data.get_data()"
   ]
  },
  {
   "cell_type": "markdown",
   "metadata": {},
   "source": [
    "Download EarthPy Data Subsets\n------------------------------\n\nOnce you have identified which data subset you want to download, you can provide\nthe data key (e.g. vignette-elevation) as a parameter to the ``data.get_data()``\nfunction.\n\nBy default, data downloaded using an EarthPy data key will be\nsaved to a data subdirectory in the earth-analytics directory\n(e.g. earth-analytics/data/).\n\n"
   ]
  },
  {
   "cell_type": "code",
   "execution_count": null,
   "metadata": {
    "collapsed": false
   },
   "outputs": [],
   "source": [
    "data = et.data.get_data(\"vignette-elevation\")\n\n# You can now define the path to the downloaded data\nos.chdir(os.path.join(et.io.HOME, \"earth-analytics\"))\n\nraster_path = os.path.join(\"data\", \"vignette-elevation\", \"pre_DTM.tif\")"
   ]
  },
  {
   "cell_type": "markdown",
   "metadata": {},
   "source": [
    "Download Data From URLs\n------------------------\n\nIf you have the URL to a single file (e.g. .csv) or a compressed .zip file,\nyou can provide the URL as a parameter value called ``url`` to the\n``data.get_data()`` function.\n\nBy default, data downloaded from a URL will be\nsaved to a subdirectory called earthpy-downloads under the data directory\n(e.g. earth-analytics/data/earthpy-downloads/).\n\n"
   ]
  },
  {
   "cell_type": "code",
   "execution_count": null,
   "metadata": {
    "collapsed": false
   },
   "outputs": [],
   "source": [
    "# Example download of a file called monthly-precip-2002-2013.csv\nurl = \"https://ndownloader.figshare.com/files/12707792\"\ndata = et.data.get_data(url=url)\n\nos.chdir(os.path.join(et.io.HOME, \"earth-analytics\"))\n\ncsv_path = os.path.join(\n    \"data\", \"earthpy-downloads\", \"monthly-precip-2002-2013.csv\"\n)\n\n# Example download of a compressed .zip file called boulder_county.zip\n# which contains a shapefile (.shp) of the Boulder County, CO boundary\nurl = \"https://ndownloader.figshare.com/files/14535518\"\ndata = et.data.get_data(url=url)\n\nos.chdir(os.path.join(et.io.HOME, \"earth-analytics\"))\n\nvector_path = os.path.join(\n    \"data\", \"earthpy-downloads\", \"boulder_county\", \"boulder_county.shp\"\n)"
   ]
  },
  {
   "cell_type": "markdown",
   "metadata": {},
   "source": [
    "Replace Previously Downloaded Data\n-----------------------------------\n\nIf the data already exist in a directory, the default action of ``data.get_data()``\nfunction is to not replace the existing data with the new download. If you want\nto replace the file, you can add the parameter ``replace`` and set it\nequal to True.\n\n"
   ]
  },
  {
   "cell_type": "code",
   "execution_count": null,
   "metadata": {
    "collapsed": false
   },
   "outputs": [],
   "source": [
    "url = \"https://ndownloader.figshare.com/files/12707792\"\ndata = et.data.get_data(url=url, replace=True)"
   ]
  }
 ],
 "metadata": {
  "kernelspec": {
   "display_name": "Python 3",
   "language": "python",
   "name": "python3"
  },
  "language_info": {
   "codemirror_mode": {
    "name": "ipython",
    "version": 3
   },
   "file_extension": ".py",
   "mimetype": "text/x-python",
   "name": "python",
   "nbconvert_exporter": "python",
   "pygments_lexer": "ipython3",
   "version": "3.7.3"
  }
 },
 "nbformat": 4,
 "nbformat_minor": 0
}
