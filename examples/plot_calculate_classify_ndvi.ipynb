{
 "cells": [
  {
   "cell_type": "code",
   "execution_count": null,
   "metadata": {
    "collapsed": false
   },
   "outputs": [],
   "source": [
    "%matplotlib inline"
   ]
  },
  {
   "cell_type": "markdown",
   "metadata": {},
   "source": [
    "\nCalculate and Classify Normalized Difference Results with EarthPy\n==================================================================\n\nLearn how to calculate and classify normalized difference indices in Python using EarthPy.\nThis example shows how to calculate and classify the normalized difference vegetation\nindex (NDVI) using Landsat 8 data.\n"
   ]
  },
  {
   "cell_type": "markdown",
   "metadata": {},
   "source": [
    "Calculating Normalized Difference in Python Using EarthPy\n---------------------------------------------------------\n\n<div class=\"alert alert-info\"><h4>Note</h4><p>The examples below will show you how to use the ``normalized_diff()`` function\n   to calculate the normalized difference vegetation index (NDVI), a commonly\n   used remotely sensed index for quantifying vegetation health.</p></div>\n\nThe example below walks you through a typical workflow for calculating the normalized\ndifference vegetation index (NDVI) using Landsat 8 data with EarthPy. NDVI provides\na measure of healthy vegetation and ranges in value from -1 to 1. Values closer to\n1 represent healthy, green vegetation. NDVI can be calculated from Landsat 8 data\nusing band 4 (red) and band 5 (near-infrared).\n\nFirst, you will create a stack of bands using Landsat 8 data and then calculate\nNDVI using the ``normalized_diff()`` function. Then, you will plot the NDVI results\nusing a colorbar legend with continuous values. Last, you will classify the NDVI\nresults using threshold values and plot the classified data with a categorical legend.\n\n"
   ]
  },
  {
   "cell_type": "markdown",
   "metadata": {},
   "source": [
    "Import Packages\n---------------\n\nTo begin, import the needed packages. You will use a combination of several EarthPy\nmodules including spatial and plot.\n\n"
   ]
  },
  {
   "cell_type": "code",
   "execution_count": null,
   "metadata": {
    "collapsed": false
   },
   "outputs": [],
   "source": [
    "import os\nfrom glob import glob\nimport numpy as np\nimport matplotlib.pyplot as plt\nfrom matplotlib.colors import ListedColormap\nimport earthpy as et\nimport earthpy.spatial as es\nimport earthpy.plot as ep\n\n# Get data and set your home working directory\ndata = et.data.get_data(\"vignette-landsat\")"
   ]
  },
  {
   "cell_type": "markdown",
   "metadata": {},
   "source": [
    "Import Example Data\n-------------------\n\nTo get started, make sure your directory is set. Then, create a stack from all of\nthe Landsat .tif files (one per band). The nodata value for Landsat 8 is\n``-9999`` so you can use the ``nodata=`` parameter when you call the\n``stack()`` function.\n\n"
   ]
  },
  {
   "cell_type": "code",
   "execution_count": null,
   "metadata": {
    "collapsed": false
   },
   "outputs": [],
   "source": [
    "os.chdir(os.path.join(et.io.HOME, \"earth-analytics\"))\n\n# Stack the Landsat 8 bands\n# This creates a numpy array with each \"layer\" representing a single band\nlandsat_path = glob(\n    \"data/vignette-landsat/LC08_L1TP_034032_20160621_20170221_01_T1_sr_band*_crop.tif\"\n)\nlandsat_path.sort()\narr_st, meta = es.stack(landsat_path, nodata=-9999)"
   ]
  },
  {
   "cell_type": "markdown",
   "metadata": {},
   "source": [
    "Calculate Normalized Difference Vegetation Index (NDVI)\n-------------------------------------------------------\n\nYou can calculate NDVI for your dataset using the\n``normalized_diff`` function from the ``earthpy.spatial`` module.\nMath will be calculated (b1-b2) / (b1 + b2).\n\n"
   ]
  },
  {
   "cell_type": "code",
   "execution_count": null,
   "metadata": {
    "collapsed": false
   },
   "outputs": [],
   "source": [
    "# Landsat 8 red band is band 4 at [3]\n# Landsat 8 near-infrared band is band 5 at [4]\nndvi = es.normalized_diff(arr_st[4], arr_st[3])"
   ]
  },
  {
   "cell_type": "markdown",
   "metadata": {},
   "source": [
    "Plot NDVI With Colorbar Legend of Continuous Values\n----------------------------------------------------\n\nYou can plot NDVI with a colorbar legend of continuous values using the\n``plot_bands`` function from the ``earthpy.plot`` module.\n\n"
   ]
  },
  {
   "cell_type": "code",
   "execution_count": null,
   "metadata": {
    "collapsed": false
   },
   "outputs": [],
   "source": [
    "titles = [\"Landsat 8 - Normalized Difference Vegetation Index (NDVI)\"]\n\n# Turn off bytescale scaling due to float values for NDVI\nep.plot_bands(ndvi, cmap=\"RdYlGn\", cols=1, title=titles, vmin=-1, vmax=1)"
   ]
  },
  {
   "cell_type": "markdown",
   "metadata": {},
   "source": [
    "Classify NDVI\n-------------\n\nNext, you can categorize (or classify) the NDVI results into useful classes.\nValues under 0 will be classified together as no vegetation. Additional classes\nwill be created for bare area and low, moderate, and high vegetation areas.\n\n"
   ]
  },
  {
   "cell_type": "code",
   "execution_count": null,
   "metadata": {
    "collapsed": false
   },
   "outputs": [],
   "source": [
    "# Create classes and apply to NDVI results\nndvi_class_bins = [-np.inf, 0, 0.1, 0.25, 0.4, np.inf]\nndvi_landsat_class = np.digitize(ndvi, ndvi_class_bins)\n\n# Apply the nodata mask to the newly classified NDVI data\nndvi_landsat_class = np.ma.masked_where(\n    np.ma.getmask(ndvi), ndvi_landsat_class\n)\nnp.unique(ndvi_landsat_class)"
   ]
  },
  {
   "cell_type": "markdown",
   "metadata": {},
   "source": [
    "Plot Classified NDVI With Categorical Legend - EarthPy Draw_Legend()\n--------------------------------------------------------------------\n\nYou can plot the classified NDVI with a categorical legend using the\n``draw_legend()`` function from the ``earthpy.plot`` module.\n\n"
   ]
  },
  {
   "cell_type": "code",
   "execution_count": null,
   "metadata": {
    "collapsed": false
   },
   "outputs": [],
   "source": [
    "# Define color map\nnbr_colors = [\"gray\", \"y\", \"yellowgreen\", \"g\", \"darkgreen\"]\nnbr_cmap = ListedColormap(nbr_colors)\n\n# Define class names\nndvi_cat_names = [\n    \"No Vegetation\",\n    \"Bare Area\",\n    \"Low Vegetation\",\n    \"Moderate Vegetation\",\n    \"High Vegetation\",\n]\n\n# Get list of classes\nclasses = np.unique(ndvi_landsat_class)\nclasses = classes.tolist()\n# The mask returns a value of none in the classes. remove that\nclasses = classes[0:5]\n\n# Plot your data\nfig, ax = plt.subplots(figsize=(12, 12))\nim = ax.imshow(ndvi_landsat_class, cmap=nbr_cmap)\n\nep.draw_legend(im_ax=im, classes=classes, titles=ndvi_cat_names)\nax.set_title(\n    \"Landsat 8 - Normalized Difference Vegetation Index (NDVI) Classes\",\n    fontsize=14,\n)\nax.set_axis_off()\n\n# Auto adjust subplot to fit figure size\nplt.tight_layout()"
   ]
  }
 ],
 "metadata": {
  "kernelspec": {
   "display_name": "Python 3",
   "language": "python",
   "name": "python3"
  },
  "language_info": {
   "codemirror_mode": {
    "name": "ipython",
    "version": 3
   },
   "file_extension": ".py",
   "mimetype": "text/x-python",
   "name": "python",
   "nbconvert_exporter": "python",
   "pygments_lexer": "ipython3",
   "version": "3.7.3"
  }
 },
 "nbformat": 4,
 "nbformat_minor": 0
}
